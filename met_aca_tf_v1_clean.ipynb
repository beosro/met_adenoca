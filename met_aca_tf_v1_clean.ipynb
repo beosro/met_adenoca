{
 "cells": [
  {
   "cell_type": "code",
   "execution_count": null,
   "metadata": {},
   "outputs": [],
   "source": [
    "# Import Libraries\n",
    "import tensorflow as tf\n",
    "print(tf.__version__)\n",
    "from tensorflow.keras.applications.resnet50 import ResNet50\n",
    "from tensorflow.keras.preprocessing.image import ImageDataGenerator\n",
    "from tensorflow.keras.models import Sequential\n",
    "from tensorflow.keras.layers import Activation, Dropout, Flatten, Dense, BatchNormalization, GlobalMaxPooling2D\n",
    "from tensorflow.keras.optimizers import Adam\n",
    "import matplotlib.pyplot as plt\n",
    "from sklearn.metrics import confusion_matrix\n",
    "import scikitplot as skplt"
   ]
  },
  {
   "cell_type": "code",
   "execution_count": null,
   "metadata": {},
   "outputs": [],
   "source": [
    "# Specify path to your data directory\n",
    "path = 'Path to your data directory'"
   ]
  },
  {
   "cell_type": "code",
   "execution_count": null,
   "metadata": {},
   "outputs": [],
   "source": [
    "# Specify image target size and batch size\n",
    "target_size = (299,299)\n",
    "batch_size = 32"
   ]
  },
  {
   "cell_type": "code",
   "execution_count": null,
   "metadata": {},
   "outputs": [],
   "source": [
    "# Normalize your images and split your set into 80% training and 20% validation\n",
    "datagen = ImageDataGenerator(validation_split=0.2, rescale=1./255)"
   ]
  },
  {
   "cell_type": "code",
   "execution_count": null,
   "metadata": {},
   "outputs": [],
   "source": [
    "# Create training tensor data for your ML model\n",
    "train_data_gen = datagen.flow_from_directory(\n",
    "    path,\n",
    "    subset='training',\n",
    "    target_size=target_size, \n",
    "    batch_size=batch_size, \n",
    "    class_mode='binary')"
   ]
  },
  {
   "cell_type": "code",
   "execution_count": null,
   "metadata": {},
   "outputs": [],
   "source": [
    "# Create validation tensor data for your model\n",
    "val_data_gen = datagen.flow_from_directory(\n",
    "    path,\n",
    "    subset='validation',\n",
    "    target_size=target_size, \n",
    "    batch_size=batch_size, \n",
    "    class_mode='binary',\n",
    "    shuffle=False)"
   ]
  },
  {
   "cell_type": "code",
   "execution_count": null,
   "metadata": {},
   "outputs": [],
   "source": [
    "# Plot sample images from your training data\n",
    "class_labels = train_data_gen.class_indices\n",
    "print(class_labels)\n",
    "\n",
    "sample_training_images, labels = next(train_data_gen)\n",
    "\n",
    "def plotImages(images_arr, labels):\n",
    "    fig, axes = plt.subplots(4, 4, figsize=(15,15))\n",
    "    axes = axes.flatten()\n",
    "    for img, lbs, ax in zip( images_arr, labels, axes):\n",
    "        ax.imshow(img)\n",
    "        ax.set_title(lbs)\n",
    "        ax.axis('off')\n",
    "    plt.tight_layout()\n",
    "    plt.show()\n",
    "\n",
    "plotImages(sample_training_images[:16], labels[:16])"
   ]
  },
  {
   "cell_type": "code",
   "execution_count": null,
   "metadata": {},
   "outputs": [],
   "source": [
    "# Define your pretrained ML model (ResNet50)\n",
    "input_shape = (299,299,3)\n",
    "\n",
    "pretrained_model = ResNet50(\n",
    "    input_shape = input_shape,\n",
    "    weights = 'imagenet',\n",
    "    layers=tf.keras.layers,\n",
    "    include_top = False)\n",
    "\n",
    "pretrained_model.trainable = False"
   ]
  },
  {
   "cell_type": "code",
   "execution_count": null,
   "metadata": {},
   "outputs": [],
   "source": [
    "# Define your final ML model\n",
    "model = Sequential()\n",
    "model.add(pretrained_model)\n",
    "model.add(GlobalMaxPooling2D())\n",
    "model.add(Flatten())\n",
    "model.add(BatchNormalization())\n",
    "model.add(Dropout(0.5))\n",
    "model.add(Dense(512))\n",
    "model.add(Activation('relu'))\n",
    "model.add(BatchNormalization())\n",
    "model.add(Dropout(0.5))\n",
    "model.add(Dense(1))\n",
    "model.add(Activation('sigmoid'))"
   ]
  },
  {
   "cell_type": "code",
   "execution_count": null,
   "metadata": {},
   "outputs": [],
   "source": [
    "# Compile your model\n",
    "model.compile(optimizer='Adam', loss='binary_crossentropy',metrics=['accuracy'])"
   ]
  },
  {
   "cell_type": "code",
   "execution_count": null,
   "metadata": {},
   "outputs": [],
   "source": [
    "# Fit your model\n",
    "epochs = 5\n",
    "\n",
    "history = model.fit_generator(\n",
    "    train_data_gen,\n",
    "    steps_per_epoch=train_data_gen.samples/train_data_gen.batch_size,\n",
    "    epochs=epochs,\n",
    "    validation_data=val_data_gen,\n",
    "    validation_steps=val_data_gen.samples/val_data_gen.batch_size\n",
    "    )"
   ]
  },
  {
   "cell_type": "code",
   "execution_count": null,
   "metadata": {},
   "outputs": [],
   "source": [
    "# Make predictions on your validation images\n",
    "predict_prob = model.predict_generator(val_data_gen)\n",
    "predictions = predict_prob > 0.5"
   ]
  },
  {
   "cell_type": "code",
   "execution_count": null,
   "metadata": {},
   "outputs": [],
   "source": [
    "# Plot confusion matrix\n",
    "print(class_labels)\n",
    "skplt.metrics.plot_confusion_matrix(\n",
    "    val_data_gen.classes, \n",
    "    predictions,\n",
    "    figsize=(10,10))"
   ]
  }
 ],
 "metadata": {
  "kernelspec": {
   "display_name": "Python 3.7 (tf)",
   "language": "python",
   "name": "tf"
  },
  "language_info": {
   "codemirror_mode": {
    "name": "ipython",
    "version": 3
   },
   "file_extension": ".py",
   "mimetype": "text/x-python",
   "name": "python",
   "nbconvert_exporter": "python",
   "pygments_lexer": "ipython3",
   "version": "3.7.7"
  }
 },
 "nbformat": 4,
 "nbformat_minor": 4
}
